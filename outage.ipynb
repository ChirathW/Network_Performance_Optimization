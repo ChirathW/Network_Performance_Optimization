{
 "cells": [
  {
   "cell_type": "code",
   "execution_count": 3,
   "id": "c514b336-a1b0-4a27-ac12-8153d0a790d4",
   "metadata": {},
   "outputs": [],
   "source": [
    "import pandas as pd\n",
    "import matplotlib.pyplot as  plt\n",
    "%matplotlib inline\n",
    "import seaborn as sns\n",
    "import numpy as np"
   ]
  },
  {
   "cell_type": "code",
   "execution_count": 5,
   "id": "a8479c9d-f724-4b95-985f-7f7066fc58f2",
   "metadata": {},
   "outputs": [],
   "source": [
    "outage = pd.read_csv('/Users/chirathwije/Desktop/Projects Datasets/BB outage Reports/BB Outage Report Source.csv')"
   ]
  },
  {
   "cell_type": "code",
   "execution_count": 6,
   "id": "691d9f89-79f7-48c6-b4a4-45017d5efef0",
   "metadata": {},
   "outputs": [
    {
     "data": {
      "text/html": [
       "<div>\n",
       "<style scoped>\n",
       "    .dataframe tbody tr th:only-of-type {\n",
       "        vertical-align: middle;\n",
       "    }\n",
       "\n",
       "    .dataframe tbody tr th {\n",
       "        vertical-align: top;\n",
       "    }\n",
       "\n",
       "    .dataframe thead th {\n",
       "        text-align: right;\n",
       "    }\n",
       "</style>\n",
       "<table border=\"1\" class=\"dataframe\">\n",
       "  <thead>\n",
       "    <tr style=\"text-align: right;\">\n",
       "      <th></th>\n",
       "      <th>id</th>\n",
       "      <th>bb_type</th>\n",
       "      <th>bb_name</th>\n",
       "      <th>city</th>\n",
       "      <th>area_code</th>\n",
       "      <th>log_report_type</th>\n",
       "      <th>priority</th>\n",
       "      <th>outage_duration</th>\n",
       "      <th>volume</th>\n",
       "    </tr>\n",
       "  </thead>\n",
       "  <tbody>\n",
       "    <tr>\n",
       "      <th>0</th>\n",
       "      <td>8011</td>\n",
       "      <td>8</td>\n",
       "      <td>ADSL 1</td>\n",
       "      <td>Lagos</td>\n",
       "      <td>1</td>\n",
       "      <td>68</td>\n",
       "      <td>Medium</td>\n",
       "      <td>0</td>\n",
       "      <td>7</td>\n",
       "    </tr>\n",
       "    <tr>\n",
       "      <th>1</th>\n",
       "      <td>16949</td>\n",
       "      <td>8</td>\n",
       "      <td>ADSL 1</td>\n",
       "      <td>Lagos</td>\n",
       "      <td>1</td>\n",
       "      <td>80</td>\n",
       "      <td>Medium</td>\n",
       "      <td>0</td>\n",
       "      <td>1</td>\n",
       "    </tr>\n",
       "    <tr>\n",
       "      <th>2</th>\n",
       "      <td>16949</td>\n",
       "      <td>8</td>\n",
       "      <td>ADSL 1</td>\n",
       "      <td>Lagos</td>\n",
       "      <td>1</td>\n",
       "      <td>201</td>\n",
       "      <td>Medium</td>\n",
       "      <td>0</td>\n",
       "      <td>1</td>\n",
       "    </tr>\n",
       "    <tr>\n",
       "      <th>3</th>\n",
       "      <td>4703</td>\n",
       "      <td>8</td>\n",
       "      <td>ADSL 1</td>\n",
       "      <td>Lagos</td>\n",
       "      <td>1</td>\n",
       "      <td>159</td>\n",
       "      <td>Low</td>\n",
       "      <td>2</td>\n",
       "      <td>1</td>\n",
       "    </tr>\n",
       "    <tr>\n",
       "      <th>4</th>\n",
       "      <td>4703</td>\n",
       "      <td>8</td>\n",
       "      <td>ADSL 1</td>\n",
       "      <td>Lagos</td>\n",
       "      <td>1</td>\n",
       "      <td>201</td>\n",
       "      <td>Low</td>\n",
       "      <td>2</td>\n",
       "      <td>5</td>\n",
       "    </tr>\n",
       "  </tbody>\n",
       "</table>\n",
       "</div>"
      ],
      "text/plain": [
       "      id  bb_type bb_name   city  area_code  log_report_type priority  \\\n",
       "0   8011        8  ADSL 1  Lagos          1               68   Medium   \n",
       "1  16949        8  ADSL 1  Lagos          1               80   Medium   \n",
       "2  16949        8  ADSL 1  Lagos          1              201   Medium   \n",
       "3   4703        8  ADSL 1  Lagos          1              159      Low   \n",
       "4   4703        8  ADSL 1  Lagos          1              201      Low   \n",
       "\n",
       "   outage_duration  volume  \n",
       "0                0       7  \n",
       "1                0       1  \n",
       "2                0       1  \n",
       "3                2       1  \n",
       "4                2       5  "
      ]
     },
     "execution_count": 6,
     "metadata": {},
     "output_type": "execute_result"
    }
   ],
   "source": [
    "outage.head()"
   ]
  },
  {
   "cell_type": "code",
   "execution_count": 7,
   "id": "f415774f-130c-4fbe-8af3-e9d9148d48a6",
   "metadata": {},
   "outputs": [
    {
     "data": {
      "text/html": [
       "<div>\n",
       "<style scoped>\n",
       "    .dataframe tbody tr th:only-of-type {\n",
       "        vertical-align: middle;\n",
       "    }\n",
       "\n",
       "    .dataframe tbody tr th {\n",
       "        vertical-align: top;\n",
       "    }\n",
       "\n",
       "    .dataframe thead th {\n",
       "        text-align: right;\n",
       "    }\n",
       "</style>\n",
       "<table border=\"1\" class=\"dataframe\">\n",
       "  <thead>\n",
       "    <tr style=\"text-align: right;\">\n",
       "      <th></th>\n",
       "      <th>id</th>\n",
       "      <th>bb_type</th>\n",
       "      <th>area_code</th>\n",
       "      <th>log_report_type</th>\n",
       "      <th>outage_duration</th>\n",
       "      <th>volume</th>\n",
       "    </tr>\n",
       "  </thead>\n",
       "  <tbody>\n",
       "    <tr>\n",
       "      <th>count</th>\n",
       "      <td>8508.000000</td>\n",
       "      <td>8508.000000</td>\n",
       "      <td>8508.000000</td>\n",
       "      <td>8508.000000</td>\n",
       "      <td>8508.000000</td>\n",
       "      <td>8508.000000</td>\n",
       "    </tr>\n",
       "    <tr>\n",
       "      <th>mean</th>\n",
       "      <td>9125.328279</td>\n",
       "      <td>4.226023</td>\n",
       "      <td>475.347555</td>\n",
       "      <td>217.565585</td>\n",
       "      <td>0.455101</td>\n",
       "      <td>7.038669</td>\n",
       "    </tr>\n",
       "    <tr>\n",
       "      <th>std</th>\n",
       "      <td>5289.954576</td>\n",
       "      <td>2.859640</td>\n",
       "      <td>414.290321</td>\n",
       "      <td>87.883978</td>\n",
       "      <td>0.667104</td>\n",
       "      <td>21.053108</td>\n",
       "    </tr>\n",
       "    <tr>\n",
       "      <th>min</th>\n",
       "      <td>6.000000</td>\n",
       "      <td>1.000000</td>\n",
       "      <td>1.000000</td>\n",
       "      <td>1.000000</td>\n",
       "      <td>0.000000</td>\n",
       "      <td>1.000000</td>\n",
       "    </tr>\n",
       "    <tr>\n",
       "      <th>25%</th>\n",
       "      <td>4623.000000</td>\n",
       "      <td>2.000000</td>\n",
       "      <td>128.000000</td>\n",
       "      <td>170.000000</td>\n",
       "      <td>0.000000</td>\n",
       "      <td>1.000000</td>\n",
       "    </tr>\n",
       "    <tr>\n",
       "      <th>50%</th>\n",
       "      <td>9144.000000</td>\n",
       "      <td>2.000000</td>\n",
       "      <td>270.000000</td>\n",
       "      <td>232.000000</td>\n",
       "      <td>0.000000</td>\n",
       "      <td>2.000000</td>\n",
       "    </tr>\n",
       "    <tr>\n",
       "      <th>75%</th>\n",
       "      <td>13491.500000</td>\n",
       "      <td>8.000000</td>\n",
       "      <td>1024.000000</td>\n",
       "      <td>307.000000</td>\n",
       "      <td>1.000000</td>\n",
       "      <td>5.000000</td>\n",
       "    </tr>\n",
       "    <tr>\n",
       "      <th>max</th>\n",
       "      <td>18550.000000</td>\n",
       "      <td>10.000000</td>\n",
       "      <td>1126.000000</td>\n",
       "      <td>384.000000</td>\n",
       "      <td>2.000000</td>\n",
       "      <td>636.000000</td>\n",
       "    </tr>\n",
       "  </tbody>\n",
       "</table>\n",
       "</div>"
      ],
      "text/plain": [
       "                 id      bb_type    area_code  log_report_type  \\\n",
       "count   8508.000000  8508.000000  8508.000000      8508.000000   \n",
       "mean    9125.328279     4.226023   475.347555       217.565585   \n",
       "std     5289.954576     2.859640   414.290321        87.883978   \n",
       "min        6.000000     1.000000     1.000000         1.000000   \n",
       "25%     4623.000000     2.000000   128.000000       170.000000   \n",
       "50%     9144.000000     2.000000   270.000000       232.000000   \n",
       "75%    13491.500000     8.000000  1024.000000       307.000000   \n",
       "max    18550.000000    10.000000  1126.000000       384.000000   \n",
       "\n",
       "       outage_duration       volume  \n",
       "count      8508.000000  8508.000000  \n",
       "mean          0.455101     7.038669  \n",
       "std           0.667104    21.053108  \n",
       "min           0.000000     1.000000  \n",
       "25%           0.000000     1.000000  \n",
       "50%           0.000000     2.000000  \n",
       "75%           1.000000     5.000000  \n",
       "max           2.000000   636.000000  "
      ]
     },
     "execution_count": 7,
     "metadata": {},
     "output_type": "execute_result"
    }
   ],
   "source": [
    "outage.describe()"
   ]
  },
  {
   "cell_type": "code",
   "execution_count": 11,
   "id": "ddb28cdb-2968-4fa1-9615-56593ffce83b",
   "metadata": {},
   "outputs": [
    {
     "name": "stdout",
     "output_type": "stream",
     "text": [
      "<class 'pandas.core.frame.DataFrame'>\n",
      "RangeIndex: 8508 entries, 0 to 8507\n",
      "Data columns (total 9 columns):\n",
      " #   Column           Non-Null Count  Dtype \n",
      "---  ------           --------------  ----- \n",
      " 0   id               8508 non-null   int64 \n",
      " 1   bb_type          8508 non-null   int64 \n",
      " 2   bb_name          8508 non-null   object\n",
      " 3   city             8508 non-null   object\n",
      " 4   area_code        8508 non-null   int64 \n",
      " 5   log_report_type  8508 non-null   int64 \n",
      " 6   priority         8508 non-null   object\n",
      " 7   outage_duration  8508 non-null   int64 \n",
      " 8   volume           8508 non-null   int64 \n",
      "dtypes: int64(6), object(3)\n",
      "memory usage: 598.3+ KB\n"
     ]
    }
   ],
   "source": [
    "outage.info()"
   ]
  },
  {
   "cell_type": "markdown",
   "id": "c4da7998-1cc9-437a-b705-ae2ec9d2224b",
   "metadata": {},
   "source": [
    "## City-Specific Analysis\n",
    "#### Objective: Identify cities with the highest frequency of outages."
   ]
  },
  {
   "cell_type": "code",
   "execution_count": 14,
   "id": "d5387ef7-84c6-48df-b20a-5977cd26e626",
   "metadata": {},
   "outputs": [
    {
     "data": {
      "text/html": [
       "<div>\n",
       "<style scoped>\n",
       "    .dataframe tbody tr th:only-of-type {\n",
       "        vertical-align: middle;\n",
       "    }\n",
       "\n",
       "    .dataframe tbody tr th {\n",
       "        vertical-align: top;\n",
       "    }\n",
       "\n",
       "    .dataframe thead th {\n",
       "        text-align: right;\n",
       "    }\n",
       "</style>\n",
       "<table border=\"1\" class=\"dataframe\">\n",
       "  <thead>\n",
       "    <tr style=\"text-align: right;\">\n",
       "      <th></th>\n",
       "      <th>city</th>\n",
       "      <th>total_outages</th>\n",
       "      <th>avg_volume</th>\n",
       "    </tr>\n",
       "  </thead>\n",
       "  <tbody>\n",
       "    <tr>\n",
       "      <th>164</th>\n",
       "      <td>Munich</td>\n",
       "      <td>420</td>\n",
       "      <td>5.800000</td>\n",
       "    </tr>\n",
       "    <tr>\n",
       "      <th>149</th>\n",
       "      <td>Mashhad</td>\n",
       "      <td>299</td>\n",
       "      <td>4.311037</td>\n",
       "    </tr>\n",
       "    <tr>\n",
       "      <th>21</th>\n",
       "      <td>Basra</td>\n",
       "      <td>283</td>\n",
       "      <td>3.173145</td>\n",
       "    </tr>\n",
       "    <tr>\n",
       "      <th>250</th>\n",
       "      <td>Touba</td>\n",
       "      <td>258</td>\n",
       "      <td>20.856589</td>\n",
       "    </tr>\n",
       "    <tr>\n",
       "      <th>170</th>\n",
       "      <td>Naples</td>\n",
       "      <td>241</td>\n",
       "      <td>36.514523</td>\n",
       "    </tr>\n",
       "  </tbody>\n",
       "</table>\n",
       "</div>"
      ],
      "text/plain": [
       "         city  total_outages  avg_volume\n",
       "164    Munich            420    5.800000\n",
       "149   Mashhad            299    4.311037\n",
       "21      Basra            283    3.173145\n",
       "250     Touba            258   20.856589\n",
       "170    Naples            241   36.514523"
      ]
     },
     "execution_count": 14,
     "metadata": {},
     "output_type": "execute_result"
    }
   ],
   "source": [
    "city_specific_analysis = outage.groupby('city').agg(\n",
    "    total_outages=('id','count'),\n",
    "    avg_volume = ('volume','mean')\n",
    ").reset_index()\n",
    "city_sorted=city_specific_analysis.sort_values(\"total_outages\",ascending=False)\n",
    "city_sorted.head()"
   ]
  },
  {
   "cell_type": "markdown",
   "id": "6367cc67-7e4c-4a3d-bf9e-69ee4e36fb15",
   "metadata": {},
   "source": [
    "## Broadband Type Comparison\n",
    "#### Objective: Determine which broadband types are most prone to severe outages."
   ]
  },
  {
   "cell_type": "code",
   "execution_count": 53,
   "id": "b92837ca-48db-4bc4-9395-ce72f4dcc3fb",
   "metadata": {
    "scrolled": true
   },
   "outputs": [
    {
     "data": {
      "image/png": "[encoded data removed]",
      "text/plain": [
       "<Figure size 1400x600 with 1 Axes>"
      ]
     },
     "metadata": {},
     "output_type": "display_data"
    }
   ],
   "source": [
    "bb_type= outage.groupby('bb_name').agg(\n",
    "    avg_duration=('outage_duration','mean'),\n",
    "    avg_volume = ('volume','mean')\n",
    ").reset_index ()\n",
    "\n",
    "plt.figure(figsize=(14,6))\n",
    "sns.barplot(x='bb_name', \n",
    "            y='avg_volume', \n",
    "            hue='avg_duration',\n",
    "            width=0.9,\n",
    "            data=bb_type\n",
    ")\n",
    "plt.title('Broadband Comparison')\n",
    "plt.xlabel('Broadband Type')\n",
    "plt.ylabel('Frequency')\n",
    "plt.legend(title='Average Duration',bbox_to_anchor=(1.05, 1), loc='upper left')\n",
    "plt.tight_layout()\n",
    "plt.show()"
   ]
  },
  {
   "cell_type": "markdown",
   "id": "85eff1e4-3165-4fff-8128-c41d64ab1ccf",
   "metadata": {},
   "source": [
    "#### The barplot will show different broadband types, allowing for direct comparison between different technologies. Broadband types with lower bars and lighter colors would represent more reliable services (fewer and shorter outages)"
   ]
  },
  {
   "cell_type": "markdown",
   "id": "98c0422e-ceaa-4752-bc9f-0febbbd8d354",
   "metadata": {},
   "source": [
    "## Outage Severity Trends\n",
    "#### Objective:- Identify how outage priorities (Low/Medium/Critical/Severe) distribute across broadband types?"
   ]
  },
  {
   "cell_type": "code",
   "execution_count": 81,
   "id": "0a6c766a-7d65-4fb5-994d-00b63a9d247b",
   "metadata": {},
   "outputs": [],
   "source": [
    "severity= outage.groupby(['priority','bb_name'])['volume'].mean().reset_index()\n",
    "pivot_df = severity.pivot(index='bb_name', columns='priority', values='volume').fillna(0)"
   ]
  },
  {
   "cell_type": "code",
   "execution_count": 83,
   "id": "1e1133de-cafb-4a3a-b0d0-81e1a25be757",
   "metadata": {},
   "outputs": [
    {
     "data": {
      "text/html": [
       "<div>\n",
       "<style scoped>\n",
       "    .dataframe tbody tr th:only-of-type {\n",
       "        vertical-align: middle;\n",
       "    }\n",
       "\n",
       "    .dataframe tbody tr th {\n",
       "        vertical-align: top;\n",
       "    }\n",
       "\n",
       "    .dataframe thead th {\n",
       "        text-align: right;\n",
       "    }\n",
       "</style>\n",
       "<table border=\"1\" class=\"dataframe\">\n",
       "  <thead>\n",
       "    <tr style=\"text-align: right;\">\n",
       "      <th>priority</th>\n",
       "      <th>Critical</th>\n",
       "      <th>High</th>\n",
       "      <th>Low</th>\n",
       "      <th>Medium</th>\n",
       "      <th>Severe</th>\n",
       "    </tr>\n",
       "    <tr>\n",
       "      <th>bb_name</th>\n",
       "      <th></th>\n",
       "      <th></th>\n",
       "      <th></th>\n",
       "      <th></th>\n",
       "      <th></th>\n",
       "    </tr>\n",
       "  </thead>\n",
       "  <tbody>\n",
       "    <tr>\n",
       "      <th>ADSL 1</th>\n",
       "      <td>3.608696</td>\n",
       "      <td>0.0</td>\n",
       "      <td>11.081602</td>\n",
       "      <td>6.825465</td>\n",
       "      <td>0.0</td>\n",
       "    </tr>\n",
       "    <tr>\n",
       "      <th>ADSL 2</th>\n",
       "      <td>1.256098</td>\n",
       "      <td>1.0</td>\n",
       "      <td>2.368801</td>\n",
       "      <td>7.220254</td>\n",
       "      <td>0.0</td>\n",
       "    </tr>\n",
       "    <tr>\n",
       "      <th>ADSL 2+</th>\n",
       "      <td>0.000000</td>\n",
       "      <td>0.0</td>\n",
       "      <td>3.192453</td>\n",
       "      <td>0.000000</td>\n",
       "      <td>0.0</td>\n",
       "    </tr>\n",
       "    <tr>\n",
       "      <th>BPL</th>\n",
       "      <td>0.000000</td>\n",
       "      <td>0.0</td>\n",
       "      <td>2.941176</td>\n",
       "      <td>0.000000</td>\n",
       "      <td>1.0</td>\n",
       "    </tr>\n",
       "    <tr>\n",
       "      <th>Cable</th>\n",
       "      <td>2.444444</td>\n",
       "      <td>0.0</td>\n",
       "      <td>4.984127</td>\n",
       "      <td>1.800000</td>\n",
       "      <td>0.0</td>\n",
       "    </tr>\n",
       "  </tbody>\n",
       "</table>\n",
       "</div>"
      ],
      "text/plain": [
       "priority  Critical  High        Low    Medium  Severe\n",
       "bb_name                                              \n",
       "ADSL 1    3.608696   0.0  11.081602  6.825465     0.0\n",
       "ADSL 2    1.256098   1.0   2.368801  7.220254     0.0\n",
       "ADSL 2+   0.000000   0.0   3.192453  0.000000     0.0\n",
       "BPL       0.000000   0.0   2.941176  0.000000     1.0\n",
       "Cable     2.444444   0.0   4.984127  1.800000     0.0"
      ]
     },
     "execution_count": 83,
     "metadata": {},
     "output_type": "execute_result"
    }
   ],
   "source": [
    "pivot_df.head()"
   ]
  },
  {
   "cell_type": "code",
   "execution_count": 85,
   "id": "2035b95b-fe60-482b-9df7-722af714b15e",
   "metadata": {},
   "outputs": [],
   "source": [
    "pivot_df['Total'] = pivot_df.sum(axis=1)\n",
    "pivot_df = pivot_df.sort_values('Total', ascending=False).drop('Total', axis=1)"
   ]
  },
  {
   "cell_type": "code",
   "execution_count": 87,
   "id": "73be58f7-b245-4131-876e-3f5cae6ba0f3",
   "metadata": {},
   "outputs": [
    {
     "data": {
      "text/plain": [
       "<Figure size 1200x600 with 0 Axes>"
      ]
     },
     "metadata": {},
     "output_type": "display_data"
    },
    {
     "data": {
      "image/png": "[encoded data removed]",
      "text/plain": [
       "<Figure size 640x480 with 1 Axes>"
      ]
     },
     "metadata": {},
     "output_type": "display_data"
    }
   ],
   "source": [
    "plt.figure(figsize=(12,6))\n",
    "pivot_df.plot(kind='bar',stacked=True,colormap='mako')\n",
    "plt.title('Outage Severity distribution by broadband Type',fontsize=14)\n",
    "plt.xlabel('Broaband Type',fontsize=12)\n",
    "plt.ylabel('Total Outage Volume',fontsize=12)\n",
    "plt.xticks(rotation=45, ha='right')\n",
    "plt.legend(title='Priority', bbox_to_anchor=(1.05, 1), loc='upper left')\n",
    "plt.tight_layout()\n",
    "plt.show()"
   ]
  },
  {
   "attachments": {},
   "cell_type": "markdown",
   "id": "1737c74f-6e62-49fc-8522-a9e8b59f3251",
   "metadata": {},
   "source": [
    "#### The above visualization shows broadband types like ADSL1 have the highest average number of cases being distributed among various priorities, while showcasing patterns of the outage distribution that might suggest where service improvements are most needed."
   ]
  },
  {
   "cell_type": "code",
   "execution_count": null,
   "id": "500bf3bf-4c93-47e3-a746-4c031b2f6f68",
   "metadata": {},
   "outputs": [],
   "source": []
  }
 ],
 "metadata": {
  "kernelspec": {
   "display_name": "Python [conda env:base] *",
   "language": "python",
   "name": "conda-base-py"
  },
  "language_info": {
   "codemirror_mode": {
    "name": "ipython",
    "version": 3
   },
   "file_extension": ".py",
   "mimetype": "text/x-python",
   "name": "python",
   "nbconvert_exporter": "python",
   "pygments_lexer": "ipython3",
   "version": "3.12.2"
  }
 },
 "nbformat": 4,
 "nbformat_minor": 5
}
